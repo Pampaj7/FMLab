{
  "cells": [
    {
      "cell_type": "markdown",
      "id": "a54f1d43",
      "metadata": {
        "id": "a54f1d43"
      },
      "source": [
        "# Laboratory 5: Convolutional Neural Networks\n",
        "\n",
        "In this laboratory session we will train some CNNs to recognize color images in the [CIFAR-10 Dataset](https://www.cs.toronto.edu/~kriz/cifar.html)."
      ]
    },
    {
      "cell_type": "markdown",
      "id": "6bbcd5fc",
      "metadata": {
        "id": "6bbcd5fc",
        "tags": []
      },
      "source": [
        "## Part 1: Initial Setup and Data Exploration\n",
        "\n",
        "We begin with some standard imports, as usual."
      ]
    },
    {
      "cell_type": "code",
      "execution_count": 1,
      "id": "aa0017bb",
      "metadata": {
        "colab": {
          "base_uri": "https://localhost:8080/"
        },
        "id": "aa0017bb",
        "outputId": "0a7d9328-5376-4004-ad3f-4944584850f4"
      },
      "outputs": [
        {
          "data": {
            "text/plain": [
              "False"
            ]
          },
          "execution_count": 1,
          "metadata": {},
          "output_type": "execute_result"
        }
      ],
      "source": [
        "# Standard imports\n",
        "import numpy as np\n",
        "import matplotlib.pyplot as plt\n",
        "plt.style.use('dark_background')\n",
        "\n",
        "# Standard Pytorch imports (note the aliases).\n",
        "import torch\n",
        "import torch.nn as nn\n",
        "import torch.nn.functional as F\n",
        "from torch.utils.data import DataLoader\n",
        "torch.cuda.is_available()"
      ]
    },
    {
      "cell_type": "markdown",
      "id": "607cc4cb",
      "metadata": {
        "id": "607cc4cb"
      },
      "source": [
        "### Exercise 1.1: Dataset and Dataloader Preparation"
      ]
    },
    {
      "cell_type": "markdown",
      "id": "5488263d",
      "metadata": {
        "id": "5488263d"
      },
      "source": [
        "The `torchvision` library provides a class (with the same interface as MNIST) for the CIFAR-10 dataset. As with MNIST, it will automatically download and prepare the dataset for use. Use the CIFAR10 class to load the training, validation (use 2000 images), and test splits.\n",
        "\n",
        "**Note**: Don't forget to *transform* the images in the datasets to convert them to tensors and standardize them!\n",
        "\n",
        "**Hint**: Feel free to copy-and-paste liberally from the notebook I published for the capsule lecture. **BUT**, make sure you know what you are doing, and be aware that *some* of the code will have to be adapted for use with the CIFAR10 dataset."
      ]
    },
    {
      "cell_type": "code",
      "execution_count": 2,
      "id": "4e468226",
      "metadata": {
        "colab": {
          "base_uri": "https://localhost:8080/"
        },
        "id": "4e468226",
        "outputId": "ebae7089-d192-420e-cc43-ffa19167c6e0"
      },
      "outputs": [
        {
          "name": "stdout",
          "output_type": "stream",
          "text": [
            "Downloading https://www.cs.toronto.edu/~kriz/cifar-10-python.tar.gz to ./data/cifar-10-python.tar.gz\n"
          ]
        },
        {
          "name": "stderr",
          "output_type": "stream",
          "text": [
            "100%|██████████| 170498071/170498071 [00:49<00:00, 3460493.79it/s]\n"
          ]
        },
        {
          "name": "stdout",
          "output_type": "stream",
          "text": [
            "Extracting ./data/cifar-10-python.tar.gz to ./data\n",
            "Files already downloaded and verified\n"
          ]
        }
      ],
      "source": [
        "from torchvision.datasets import CIFAR10\n",
        "import torchvision.transforms as transforms\n",
        "\n",
        "# Validation set size.\n",
        "val_size = 2000\n",
        "\n",
        "#Build a transformation pipeline\n",
        "transform = transforms.Compose([transforms.ToTensor(), transforms.Normalize([0.4914, 0.4822, 0.4465], [0.2470, 0.2435, 0.2616])])\n",
        "\n",
        "ds_train = CIFAR10('./data', train = True,  download= True, transform = transform)\n",
        "ds_test = CIFAR10('./data', train = False,  download= True, transform = transform)"
      ]
    },
    {
      "cell_type": "code",
      "execution_count": 3,
      "id": "c6bb2c37",
      "metadata": {
        "colab": {
          "base_uri": "https://localhost:8080/"
        },
        "id": "c6bb2c37",
        "outputId": "49dcb160-e933-4060-dd66-3544c081d4ad"
      },
      "outputs": [
        {
          "name": "stdout",
          "output_type": "stream",
          "text": [
            "Dataset element:\n",
            "(tensor([[[-1.0527e+00, -1.3068e+00, -1.1956e+00,  ...,  5.1906e-01,\n",
            "           4.2380e-01,  3.6029e-01],\n",
            "         [-1.7354e+00, -1.9895e+00, -1.7037e+00,  ..., -3.6628e-02,\n",
            "          -1.0013e-01, -5.2505e-02],\n",
            "         [-1.5926e+00, -1.7354e+00, -1.2115e+00,  ..., -1.1601e-01,\n",
            "          -8.4258e-02, -2.5890e-01],\n",
            "         ...,\n",
            "         [ 1.3129e+00,  1.2018e+00,  1.1541e+00,  ...,  5.5081e-01,\n",
            "          -1.1004e+00, -1.1480e+00],\n",
            "         [ 8.6835e-01,  7.5721e-01,  9.6361e-01,  ...,  9.3186e-01,\n",
            "          -4.4942e-01, -6.7170e-01],\n",
            "         [ 8.2072e-01,  6.7783e-01,  8.5247e-01,  ...,  1.4399e+00,\n",
            "           4.0792e-01, -3.6628e-02]],\n",
            "\n",
            "        [[-9.8178e-01, -1.2395e+00, -1.2072e+00,  ...,  1.4557e-01,\n",
            "           3.2838e-02,  1.6733e-02],\n",
            "         [-1.6582e+00, -1.9803e+00, -1.8514e+00,  ..., -5.6305e-01,\n",
            "          -6.4357e-01, -5.7915e-01],\n",
            "         [-1.5938e+00, -1.8676e+00, -1.5455e+00,  ..., -6.2747e-01,\n",
            "          -6.2747e-01, -8.0462e-01],\n",
            "         ...,\n",
            "         [ 7.5756e-01,  4.8378e-01,  6.1262e-01,  ...,  1.6168e-01,\n",
            "          -1.4810e+00, -1.4327e+00],\n",
            "         [ 2.5831e-01,  6.2811e-04,  3.3883e-01,  ...,  4.0325e-01,\n",
            "          -9.8178e-01, -1.1267e+00],\n",
            "         [ 3.3883e-01,  9.7258e-02,  3.0662e-01,  ...,  9.8303e-01,\n",
            "          -7.9897e-02, -4.9863e-01]],\n",
            "\n",
            "        [[-7.6239e-01, -1.0322e+00, -1.0622e+00,  ..., -8.7808e-02,\n",
            "          -1.7775e-01, -1.6276e-01],\n",
            "         [-1.4070e+00, -1.7068e+00, -1.7068e+00,  ..., -8.8232e-01,\n",
            "          -9.5727e-01, -8.5233e-01],\n",
            "         [-1.3920e+00, -1.7068e+00, -1.5869e+00,  ..., -9.5727e-01,\n",
            "          -9.5727e-01, -1.0772e+00],\n",
            "         ...,\n",
            "         [-2.6770e-01, -1.1971e+00, -1.3170e+00,  ..., -6.5745e-01,\n",
            "          -1.6019e+00, -1.4070e+00],\n",
            "         [-2.6770e-01, -1.0772e+00, -1.2571e+00,  ..., -2.9768e-01,\n",
            "          -1.1971e+00, -1.1971e+00],\n",
            "         [ 3.2118e-02, -2.9768e-01, -4.0261e-01,  ...,  3.9189e-01,\n",
            "          -4.4758e-01, -6.2747e-01]]]), 6)\n",
            "ds_train.data dtype: uint8\n"
          ]
        }
      ],
      "source": [
        "print(f'Dataset element:\\n{ds_train[0]}')\n",
        "print(f'ds_train.data dtype: {ds_train.data.dtype}')"
      ]
    },
    {
      "cell_type": "code",
      "execution_count": 4,
      "id": "dde693af",
      "metadata": {
        "colab": {
          "base_uri": "https://localhost:8080/"
        },
        "id": "dde693af",
        "outputId": "1b66f621-d764-4e28-dcbe-f9fcb9b7e4f3"
      },
      "outputs": [
        {
          "data": {
            "text/plain": [
              "torch.Size([3, 32, 32])"
            ]
          },
          "execution_count": 4,
          "metadata": {},
          "output_type": "execute_result"
        }
      ],
      "source": [
        "foo = ds_train[0][0]\n",
        "foo.shape"
      ]
    },
    {
      "cell_type": "code",
      "execution_count": 5,
      "id": "b6aba55b",
      "metadata": {
        "colab": {
          "base_uri": "https://localhost:8080/"
        },
        "id": "b6aba55b",
        "outputId": "67ab3f8c-9507-418c-f21b-1ba462fbe686"
      },
      "outputs": [
        {
          "data": {
            "text/plain": [
              "(tensor([-1.2237e-06, -1.7075e-04,  1.1820e-04]),\n",
              " tensor([1.0001, 0.9999, 1.0000]))"
            ]
          },
          "execution_count": 5,
          "metadata": {},
          "output_type": "execute_result"
        }
      ],
      "source": [
        "data = torch.stack([d[0] for d in ds_train])\n",
        "foo = data.permute(0,2,3,1)\n",
        "meanpix = foo.flatten(0,2).mean(0)\n",
        "stdpix = foo.flatten(0,2).std(0)\n",
        "meanpix, stdpix"
      ]
    },
    {
      "cell_type": "code",
      "execution_count": 6,
      "id": "b5c96978",
      "metadata": {
        "colab": {
          "base_uri": "https://localhost:8080/",
          "height": 197
        },
        "id": "b5c96978",
        "outputId": "76833e79-5961-4a5e-d91c-f774d1fec710"
      },
      "outputs": [
        {
          "name": "stderr",
          "output_type": "stream",
          "text": [
            "Clipping input data to the valid range for imshow with RGB data ([0..1] for floats or [0..255] for integers).\n"
          ]
        },
        {
          "data": {
            "image/png": "[encoded data removed]",
            "text/plain": [
              "<Figure size 100x100 with 1 Axes>"
            ]
          },
          "metadata": {},
          "output_type": "display_data"
        }
      ],
      "source": [
        "plt.figure(figsize=(1, 1))\n",
        "plt.title(ds_train.classes[ds_train[1][1]])\n",
        "\n",
        "# Transpose the dimensions to (32, 32, 3)\n",
        "image = ds_train[1][0].numpy().transpose((1, 2, 0))\n",
        "\n",
        "plt.imshow(image)\n",
        "plt.show()"
      ]
    },
    {
      "cell_type": "code",
      "execution_count": 7,
      "id": "f336d8f3",
      "metadata": {
        "colab": {
          "base_uri": "https://localhost:8080/",
          "height": 452
        },
        "id": "f336d8f3",
        "outputId": "532165bc-b12b-4f3a-a305-be73660bb1cf"
      },
      "outputs": [
        {
          "name": "stderr",
          "output_type": "stream",
          "text": [
            "Clipping input data to the valid range for imshow with RGB data ([0..1] for floats or [0..255] for integers).\n"
          ]
        },
        {
          "name": "stderr",
          "output_type": "stream",
          "text": [
            "Clipping input data to the valid range for imshow with RGB data ([0..1] for floats or [0..255] for integers).\n",
            "Clipping input data to the valid range for imshow with RGB data ([0..1] for floats or [0..255] for integers).\n",
            "Clipping input data to the valid range for imshow with RGB data ([0..1] for floats or [0..255] for integers).\n",
            "Clipping input data to the valid range for imshow with RGB data ([0..1] for floats or [0..255] for integers).\n",
            "Clipping input data to the valid range for imshow with RGB data ([0..1] for floats or [0..255] for integers).\n",
            "Clipping input data to the valid range for imshow with RGB data ([0..1] for floats or [0..255] for integers).\n",
            "Clipping input data to the valid range for imshow with RGB data ([0..1] for floats or [0..255] for integers).\n",
            "Clipping input data to the valid range for imshow with RGB data ([0..1] for floats or [0..255] for integers).\n",
            "Clipping input data to the valid range for imshow with RGB data ([0..1] for floats or [0..255] for integers).\n"
          ]
        },
        {
          "data": {
            "image/png": "[encoded data removed]",
            "text/plain": [
              "<Figure size 1500x500 with 10 Axes>"
            ]
          },
          "metadata": {},
          "output_type": "display_data"
        }
      ],
      "source": [
        "import random\n",
        "num_images_to_display = 10\n",
        "random_indices = random.sample(range(len(ds_train)), num_images_to_display)\n",
        "\n",
        "plt.figure(figsize=(15, 5))  # Adjust the figure size as needed\n",
        "\n",
        "for i, idx in enumerate(random_indices, 1):\n",
        "    plt.subplot(2, 5, i)  # 2 rows, 5 columns\n",
        "    plt.title(ds_train.classes[ds_train[idx][1]])\n",
        "\n",
        "    # Transpose the dimensions to (32, 32, 3)\n",
        "    image = ds_train[idx][0].numpy().transpose((1, 2, 0))\n",
        "\n",
        "    plt.imshow(image)\n",
        "    plt.axis('off')  # Turn off axis labels\n",
        "plt.show()"
      ]
    },
    {
      "cell_type": "markdown",
      "id": "93be2f0e",
      "metadata": {
        "id": "93be2f0e"
      },
      "source": [
        "### Exercise 1.2: Dataloaders\n",
        "Set up dataloaders for **all** of the datasets -- even though the validation set is small! Test out the datasets defined above and the dataloaders to make sure you understand the dataset format. Visualize some of the images to get a feel for the type of images and classes in CIFAR-10."
      ]
    },
    {
      "cell_type": "code",
      "execution_count": 8,
      "id": "e84efdf2",
      "metadata": {
        "id": "e84efdf2",
        "tags": []
      },
      "outputs": [],
      "source": [
        "# Setup dataloaders for all three datasets. Use the largest batch size possible.\n",
        "from torch.utils.data import Subset, DataLoader\n",
        "I= np.random.permutation(len(ds_train))\n",
        "train_size = 45000\n",
        "val_size = 5000\n",
        "ds_train_small = Subset(ds_train, I[:train_size])\n",
        "ds_val = Subset(ds_train, I[train_size: train_size + val_size])\n",
        "\n",
        "\n",
        "batch_size = 512\n",
        "\n",
        "dl_train = DataLoader(ds_train_small, batch_size = batch_size, shuffle = True , num_workers=2)\n",
        "dl_val = DataLoader(ds_val, batch_size = batch_size, num_workers = 2)\n",
        "dl_test = DataLoader(ds_test, batch_size = batch_size, num_workers = 2)\n"
      ]
    },
    {
      "cell_type": "code",
      "execution_count": 9,
      "id": "PnjS6_UHKa27",
      "metadata": {
        "colab": {
          "base_uri": "https://localhost:8080/"
        },
        "id": "PnjS6_UHKa27",
        "outputId": "6ccf22e6-ec58-4a71-8beb-74970d005800"
      },
      "outputs": [
        {
          "data": {
            "text/plain": [
              "88"
            ]
          },
          "execution_count": 9,
          "metadata": {},
          "output_type": "execute_result"
        }
      ],
      "source": [
        "len(dl_train)"
      ]
    },
    {
      "cell_type": "markdown",
      "id": "6a759bbd",
      "metadata": {
        "id": "6a759bbd"
      },
      "source": [
        "## Part 2: Establishing a stable baseline\n",
        "\n",
        "In this part of the laboratory we will establish a simple baseline as a starting point.\n",
        "\n",
        "### Exercise 2.1: An MLP Baseline\n",
        "\n",
        "Define a simple Multilayer Perceptron to classify the CIFAR-10 images. Define it as a class inheriting from torch.nn.Module. Don't make it too complex or too deep. We're just looking for a starting point. A *baseline*."
      ]
    },
    {
      "cell_type": "code",
      "execution_count": 10,
      "id": "02b67295",
      "metadata": {
        "id": "02b67295"
      },
      "outputs": [],
      "source": [
        "# Your code here.\n",
        "# Your code here.\n",
        "class MLP(torch.nn.Module):\n",
        "    def __init__(self, inner=128):\n",
        "        super().__init__()\n",
        "        self.fc1 = nn.Linear(32*32*3, inner)\n",
        "        self.fc2 = nn.Linear(inner, inner)\n",
        "        self.out = nn.Linear(inner, 10)\n",
        "\n",
        "    def forward(self, x):\n",
        "        x = x.view(x.shape[0], -1)\n",
        "        x = self.fc1(x)\n",
        "        x = F.relu(x)\n",
        "        x = self.fc2(x)\n",
        "        x = F.relu(x)\n",
        "        x = self.out(x)\n",
        "        x = F.log_softmax(x, -1)\n",
        "        return x\n",
        "\n",
        "model_mlp = MLP()"
      ]
    },
    {
      "cell_type": "code",
      "execution_count": 11,
      "id": "8aaced15",
      "metadata": {
        "id": "8aaced15"
      },
      "outputs": [],
      "source": [
        "#batch = torch.stack([d[0] for d in ds_train_small])[:32]"
      ]
    },
    {
      "cell_type": "markdown",
      "id": "98427e54",
      "metadata": {
        "id": "98427e54"
      },
      "source": [
        "### Exercise 2.2: Train and Evaluate your MLP Baseline\n",
        "\n",
        "Train the model for a few (say, 20) epochs. Again, feel free to use my training code from the Capsule Lecture (or roll your own, mine is very basic). Make sure you plot training curves and report accuracy on the test set."
      ]
    },
    {
      "cell_type": "code",
      "execution_count": 12,
      "id": "8cc96ff9",
      "metadata": {
        "id": "8cc96ff9"
      },
      "outputs": [],
      "source": [
        "from tqdm import tqdm\n",
        "from sklearn.metrics import accuracy_score, classification_report\n",
        "\n",
        "# Function to train a model for a single epoch over the data loader.\n",
        "def train_epoch(model, dl, opt, epoch='Unknown', device='cpu'):\n",
        "    model.train()\n",
        "    losses = []\n",
        "    for (xs, ys) in tqdm(dl, desc=f'Training epoch {epoch}', leave=True):\n",
        "        xs = xs.to(device)\n",
        "        ys = ys.to(device)\n",
        "        opt.zero_grad()\n",
        "        logits = model(xs)\n",
        "        loss = F.cross_entropy(logits, ys)\n",
        "        loss.backward()\n",
        "        optimizer.step()\n",
        "        losses.append(loss.item())\n",
        "    return np.mean(losses)\n",
        "\n",
        "# Function to evaluate model over all samples in the data loader.\n",
        "def evaluate_model(model, dl, device='cpu'):\n",
        "    model.eval()\n",
        "    predictions = []\n",
        "    gts = []\n",
        "    for (xs, ys) in tqdm(dl, desc='Evaluating', leave=False):\n",
        "        xs = xs.to(device)\n",
        "        preds = torch.argmax(model(xs), dim=1)\n",
        "        gts.append(ys)\n",
        "        predictions.append(preds.detach().cpu().numpy())\n",
        "\n",
        "    # Return accuracy score and classification report.\n",
        "    return (accuracy_score(np.hstack(gts), np.hstack(predictions)),\n",
        "            classification_report(np.hstack(gts), np.hstack(predictions), zero_division=0, digits=3))\n",
        "\n",
        "# Simple function to plot the loss curve and validation accuracy.\n",
        "def plot_validation_curves(losses_and_accs):\n",
        "    losses = [x for (x, _) in losses_and_accs]\n",
        "    accs = [x for (_, x) in losses_and_accs]\n",
        "    plt.figure(figsize=(16, 8))\n",
        "    plt.subplot(1, 2, 1)\n",
        "    plt.plot(losses)\n",
        "    plt.xlabel('Epoch')\n",
        "    plt.ylabel('Loss')\n",
        "    plt.title('Average Training Loss per Epoch')\n",
        "    plt.subplot(1, 2, 2)\n",
        "    plt.plot(accs)\n",
        "    plt.xlabel('Epoch')\n",
        "    plt.ylabel('Validation Accuracy')\n",
        "    plt.title(f'Best Accuracy = {np.max(accs)} @ epoch {np.argmax(accs)}')\n",
        "\n",
        "# Simple function to count the parameters in a model.\n",
        "def count_parameters(model):\n",
        "    return np.sum([p.numel() for p in model.parameters()])"
      ]
    },
    {
      "cell_type": "code",
      "execution_count": 15,
      "id": "XfQLZk9IK2X2",
      "metadata": {
        "colab": {
          "base_uri": "https://localhost:8080/",
          "height": 1000
        },
        "id": "XfQLZk9IK2X2",
        "outputId": "b8dd95a5-2248-472b-b903-d6a17ba5b356"
      },
      "outputs": [
        {
          "name": "stderr",
          "output_type": "stream",
          "text": [
            "Training epoch 0:   0%|          | 0/88 [00:00<?, ?it/s]"
          ]
        },
        {
          "name": "stderr",
          "output_type": "stream",
          "text": [
            "Training epoch 0: 100%|██████████| 88/88 [00:14<00:00,  6.07it/s]\n",
            "Training epoch 1: 100%|██████████| 88/88 [00:06<00:00, 14.39it/s]\n"
          ]
        },
        {
          "ename": "KeyboardInterrupt",
          "evalue": "",
          "output_type": "error",
          "traceback": [
            "\u001b[0;31m---------------------------------------------------------------------------\u001b[0m",
            "\u001b[0;31mKeyboardInterrupt\u001b[0m                         Traceback (most recent call last)",
            "Cell \u001b[0;32mIn[15], line 13\u001b[0m\n\u001b[1;32m     11\u001b[0m losses_and_accs \u001b[38;5;241m=\u001b[39m []\n\u001b[1;32m     12\u001b[0m \u001b[38;5;28;01mfor\u001b[39;00m epoch \u001b[38;5;129;01min\u001b[39;00m \u001b[38;5;28mrange\u001b[39m(epochs):\n\u001b[0;32m---> 13\u001b[0m     loss \u001b[38;5;241m=\u001b[39m \u001b[43mtrain_epoch\u001b[49m\u001b[43m(\u001b[49m\u001b[43mmodel_mlp\u001b[49m\u001b[43m,\u001b[49m\u001b[43m \u001b[49m\u001b[43mdl_train\u001b[49m\u001b[43m,\u001b[49m\u001b[43m \u001b[49m\u001b[43moptimizer\u001b[49m\u001b[43m,\u001b[49m\u001b[43m \u001b[49m\u001b[43mepoch\u001b[49m\u001b[43m,\u001b[49m\u001b[43m \u001b[49m\u001b[43mdevice\u001b[49m\u001b[38;5;241;43m=\u001b[39;49m\u001b[43mdevice\u001b[49m\u001b[43m)\u001b[49m\n\u001b[1;32m     14\u001b[0m     (val_acc, _) \u001b[38;5;241m=\u001b[39m evaluate_model(model_mlp, dl_val, device\u001b[38;5;241m=\u001b[39mdevice)\n\u001b[1;32m     15\u001b[0m     losses_and_accs\u001b[38;5;241m.\u001b[39mappend((loss, val_acc))\n",
            "Cell \u001b[0;32mIn[12], line 8\u001b[0m, in \u001b[0;36mtrain_epoch\u001b[0;34m(model, dl, opt, epoch, device)\u001b[0m\n\u001b[1;32m      6\u001b[0m model\u001b[38;5;241m.\u001b[39mtrain()\n\u001b[1;32m      7\u001b[0m losses \u001b[38;5;241m=\u001b[39m []\n\u001b[0;32m----> 8\u001b[0m \u001b[38;5;28;01mfor\u001b[39;00m (xs, ys) \u001b[38;5;129;01min\u001b[39;00m tqdm(dl, desc\u001b[38;5;241m=\u001b[39m\u001b[38;5;124mf\u001b[39m\u001b[38;5;124m'\u001b[39m\u001b[38;5;124mTraining epoch \u001b[39m\u001b[38;5;132;01m{\u001b[39;00mepoch\u001b[38;5;132;01m}\u001b[39;00m\u001b[38;5;124m'\u001b[39m, leave\u001b[38;5;241m=\u001b[39m\u001b[38;5;28;01mTrue\u001b[39;00m):\n\u001b[1;32m      9\u001b[0m     xs \u001b[38;5;241m=\u001b[39m xs\u001b[38;5;241m.\u001b[39mto(device)\n\u001b[1;32m     10\u001b[0m     ys \u001b[38;5;241m=\u001b[39m ys\u001b[38;5;241m.\u001b[39mto(device)\n",
            "File \u001b[0;32m~/anaconda3/envs/FML/lib/python3.10/site-packages/tqdm/std.py:1182\u001b[0m, in \u001b[0;36mtqdm.__iter__\u001b[0;34m(self)\u001b[0m\n\u001b[1;32m   1179\u001b[0m time \u001b[38;5;241m=\u001b[39m \u001b[38;5;28mself\u001b[39m\u001b[38;5;241m.\u001b[39m_time\n\u001b[1;32m   1181\u001b[0m \u001b[38;5;28;01mtry\u001b[39;00m:\n\u001b[0;32m-> 1182\u001b[0m     \u001b[38;5;28;01mfor\u001b[39;00m obj \u001b[38;5;129;01min\u001b[39;00m iterable:\n\u001b[1;32m   1183\u001b[0m         \u001b[38;5;28;01myield\u001b[39;00m obj\n\u001b[1;32m   1184\u001b[0m         \u001b[38;5;66;03m# Update and possibly print the progressbar.\u001b[39;00m\n\u001b[1;32m   1185\u001b[0m         \u001b[38;5;66;03m# Note: does not call self.update(1) for speed optimisation.\u001b[39;00m\n",
            "File \u001b[0;32m~/anaconda3/envs/FML/lib/python3.10/site-packages/torch/utils/data/dataloader.py:631\u001b[0m, in \u001b[0;36m_BaseDataLoaderIter.__next__\u001b[0;34m(self)\u001b[0m\n\u001b[1;32m    628\u001b[0m \u001b[38;5;28;01mif\u001b[39;00m \u001b[38;5;28mself\u001b[39m\u001b[38;5;241m.\u001b[39m_sampler_iter \u001b[38;5;129;01mis\u001b[39;00m \u001b[38;5;28;01mNone\u001b[39;00m:\n\u001b[1;32m    629\u001b[0m     \u001b[38;5;66;03m# TODO(https://github.com/pytorch/pytorch/issues/76750)\u001b[39;00m\n\u001b[1;32m    630\u001b[0m     \u001b[38;5;28mself\u001b[39m\u001b[38;5;241m.\u001b[39m_reset()  \u001b[38;5;66;03m# type: ignore[call-arg]\u001b[39;00m\n\u001b[0;32m--> 631\u001b[0m data \u001b[38;5;241m=\u001b[39m \u001b[38;5;28;43mself\u001b[39;49m\u001b[38;5;241;43m.\u001b[39;49m\u001b[43m_next_data\u001b[49m\u001b[43m(\u001b[49m\u001b[43m)\u001b[49m\n\u001b[1;32m    632\u001b[0m \u001b[38;5;28mself\u001b[39m\u001b[38;5;241m.\u001b[39m_num_yielded \u001b[38;5;241m+\u001b[39m\u001b[38;5;241m=\u001b[39m \u001b[38;5;241m1\u001b[39m\n\u001b[1;32m    633\u001b[0m \u001b[38;5;28;01mif\u001b[39;00m \u001b[38;5;28mself\u001b[39m\u001b[38;5;241m.\u001b[39m_dataset_kind \u001b[38;5;241m==\u001b[39m _DatasetKind\u001b[38;5;241m.\u001b[39mIterable \u001b[38;5;129;01mand\u001b[39;00m \\\n\u001b[1;32m    634\u001b[0m         \u001b[38;5;28mself\u001b[39m\u001b[38;5;241m.\u001b[39m_IterableDataset_len_called \u001b[38;5;129;01mis\u001b[39;00m \u001b[38;5;129;01mnot\u001b[39;00m \u001b[38;5;28;01mNone\u001b[39;00m \u001b[38;5;129;01mand\u001b[39;00m \\\n\u001b[1;32m    635\u001b[0m         \u001b[38;5;28mself\u001b[39m\u001b[38;5;241m.\u001b[39m_num_yielded \u001b[38;5;241m>\u001b[39m \u001b[38;5;28mself\u001b[39m\u001b[38;5;241m.\u001b[39m_IterableDataset_len_called:\n",
            "File \u001b[0;32m~/anaconda3/envs/FML/lib/python3.10/site-packages/torch/utils/data/dataloader.py:1318\u001b[0m, in \u001b[0;36m_MultiProcessingDataLoaderIter._next_data\u001b[0;34m(self)\u001b[0m\n\u001b[1;32m   1315\u001b[0m \u001b[38;5;28;01melse\u001b[39;00m:\n\u001b[1;32m   1316\u001b[0m     \u001b[38;5;66;03m# no valid `self._rcvd_idx` is found (i.e., didn't break)\u001b[39;00m\n\u001b[1;32m   1317\u001b[0m     \u001b[38;5;28;01mif\u001b[39;00m \u001b[38;5;129;01mnot\u001b[39;00m \u001b[38;5;28mself\u001b[39m\u001b[38;5;241m.\u001b[39m_persistent_workers:\n\u001b[0;32m-> 1318\u001b[0m         \u001b[38;5;28;43mself\u001b[39;49m\u001b[38;5;241;43m.\u001b[39;49m\u001b[43m_shutdown_workers\u001b[49m\u001b[43m(\u001b[49m\u001b[43m)\u001b[49m\n\u001b[1;32m   1319\u001b[0m     \u001b[38;5;28;01mraise\u001b[39;00m \u001b[38;5;167;01mStopIteration\u001b[39;00m\n\u001b[1;32m   1321\u001b[0m \u001b[38;5;66;03m# Now `self._rcvd_idx` is the batch index we want to fetch\u001b[39;00m\n\u001b[1;32m   1322\u001b[0m \n\u001b[1;32m   1323\u001b[0m \u001b[38;5;66;03m# Check if the next sample has already been generated\u001b[39;00m\n",
            "File \u001b[0;32m~/anaconda3/envs/FML/lib/python3.10/site-packages/torch/utils/data/dataloader.py:1443\u001b[0m, in \u001b[0;36m_MultiProcessingDataLoaderIter._shutdown_workers\u001b[0;34m(self)\u001b[0m\n\u001b[1;32m   1438\u001b[0m         \u001b[38;5;28mself\u001b[39m\u001b[38;5;241m.\u001b[39m_mark_worker_as_unavailable(worker_id, shutdown\u001b[38;5;241m=\u001b[39m\u001b[38;5;28;01mTrue\u001b[39;00m)\n\u001b[1;32m   1439\u001b[0m \u001b[38;5;28;01mfor\u001b[39;00m w \u001b[38;5;129;01min\u001b[39;00m \u001b[38;5;28mself\u001b[39m\u001b[38;5;241m.\u001b[39m_workers:\n\u001b[1;32m   1440\u001b[0m     \u001b[38;5;66;03m# We should be able to join here, but in case anything went\u001b[39;00m\n\u001b[1;32m   1441\u001b[0m     \u001b[38;5;66;03m# wrong, we set a timeout and if the workers fail to join,\u001b[39;00m\n\u001b[1;32m   1442\u001b[0m     \u001b[38;5;66;03m# they are killed in the `finally` block.\u001b[39;00m\n\u001b[0;32m-> 1443\u001b[0m     \u001b[43mw\u001b[49m\u001b[38;5;241;43m.\u001b[39;49m\u001b[43mjoin\u001b[49m\u001b[43m(\u001b[49m\u001b[43mtimeout\u001b[49m\u001b[38;5;241;43m=\u001b[39;49m\u001b[43m_utils\u001b[49m\u001b[38;5;241;43m.\u001b[39;49m\u001b[43mMP_STATUS_CHECK_INTERVAL\u001b[49m\u001b[43m)\u001b[49m\n\u001b[1;32m   1444\u001b[0m \u001b[38;5;28;01mfor\u001b[39;00m q \u001b[38;5;129;01min\u001b[39;00m \u001b[38;5;28mself\u001b[39m\u001b[38;5;241m.\u001b[39m_index_queues:\n\u001b[1;32m   1445\u001b[0m     q\u001b[38;5;241m.\u001b[39mcancel_join_thread()\n",
            "File \u001b[0;32m~/anaconda3/envs/FML/lib/python3.10/multiprocessing/process.py:149\u001b[0m, in \u001b[0;36mBaseProcess.join\u001b[0;34m(self, timeout)\u001b[0m\n\u001b[1;32m    147\u001b[0m \u001b[38;5;28;01massert\u001b[39;00m \u001b[38;5;28mself\u001b[39m\u001b[38;5;241m.\u001b[39m_parent_pid \u001b[38;5;241m==\u001b[39m os\u001b[38;5;241m.\u001b[39mgetpid(), \u001b[38;5;124m'\u001b[39m\u001b[38;5;124mcan only join a child process\u001b[39m\u001b[38;5;124m'\u001b[39m\n\u001b[1;32m    148\u001b[0m \u001b[38;5;28;01massert\u001b[39;00m \u001b[38;5;28mself\u001b[39m\u001b[38;5;241m.\u001b[39m_popen \u001b[38;5;129;01mis\u001b[39;00m \u001b[38;5;129;01mnot\u001b[39;00m \u001b[38;5;28;01mNone\u001b[39;00m, \u001b[38;5;124m'\u001b[39m\u001b[38;5;124mcan only join a started process\u001b[39m\u001b[38;5;124m'\u001b[39m\n\u001b[0;32m--> 149\u001b[0m res \u001b[38;5;241m=\u001b[39m \u001b[38;5;28;43mself\u001b[39;49m\u001b[38;5;241;43m.\u001b[39;49m\u001b[43m_popen\u001b[49m\u001b[38;5;241;43m.\u001b[39;49m\u001b[43mwait\u001b[49m\u001b[43m(\u001b[49m\u001b[43mtimeout\u001b[49m\u001b[43m)\u001b[49m\n\u001b[1;32m    150\u001b[0m \u001b[38;5;28;01mif\u001b[39;00m res \u001b[38;5;129;01mis\u001b[39;00m \u001b[38;5;129;01mnot\u001b[39;00m \u001b[38;5;28;01mNone\u001b[39;00m:\n\u001b[1;32m    151\u001b[0m     _children\u001b[38;5;241m.\u001b[39mdiscard(\u001b[38;5;28mself\u001b[39m)\n",
            "File \u001b[0;32m~/anaconda3/envs/FML/lib/python3.10/multiprocessing/popen_fork.py:40\u001b[0m, in \u001b[0;36mPopen.wait\u001b[0;34m(self, timeout)\u001b[0m\n\u001b[1;32m     38\u001b[0m \u001b[38;5;28;01mif\u001b[39;00m timeout \u001b[38;5;129;01mis\u001b[39;00m \u001b[38;5;129;01mnot\u001b[39;00m \u001b[38;5;28;01mNone\u001b[39;00m:\n\u001b[1;32m     39\u001b[0m     \u001b[38;5;28;01mfrom\u001b[39;00m \u001b[38;5;21;01mmultiprocessing\u001b[39;00m\u001b[38;5;21;01m.\u001b[39;00m\u001b[38;5;21;01mconnection\u001b[39;00m \u001b[38;5;28;01mimport\u001b[39;00m wait\n\u001b[0;32m---> 40\u001b[0m     \u001b[38;5;28;01mif\u001b[39;00m \u001b[38;5;129;01mnot\u001b[39;00m \u001b[43mwait\u001b[49m\u001b[43m(\u001b[49m\u001b[43m[\u001b[49m\u001b[38;5;28;43mself\u001b[39;49m\u001b[38;5;241;43m.\u001b[39;49m\u001b[43msentinel\u001b[49m\u001b[43m]\u001b[49m\u001b[43m,\u001b[49m\u001b[43m \u001b[49m\u001b[43mtimeout\u001b[49m\u001b[43m)\u001b[49m:\n\u001b[1;32m     41\u001b[0m         \u001b[38;5;28;01mreturn\u001b[39;00m \u001b[38;5;28;01mNone\u001b[39;00m\n\u001b[1;32m     42\u001b[0m \u001b[38;5;66;03m# This shouldn't block if wait() returned successfully.\u001b[39;00m\n",
            "File \u001b[0;32m~/anaconda3/envs/FML/lib/python3.10/multiprocessing/connection.py:931\u001b[0m, in \u001b[0;36mwait\u001b[0;34m(object_list, timeout)\u001b[0m\n\u001b[1;32m    928\u001b[0m     deadline \u001b[38;5;241m=\u001b[39m time\u001b[38;5;241m.\u001b[39mmonotonic() \u001b[38;5;241m+\u001b[39m timeout\n\u001b[1;32m    930\u001b[0m \u001b[38;5;28;01mwhile\u001b[39;00m \u001b[38;5;28;01mTrue\u001b[39;00m:\n\u001b[0;32m--> 931\u001b[0m     ready \u001b[38;5;241m=\u001b[39m \u001b[43mselector\u001b[49m\u001b[38;5;241;43m.\u001b[39;49m\u001b[43mselect\u001b[49m\u001b[43m(\u001b[49m\u001b[43mtimeout\u001b[49m\u001b[43m)\u001b[49m\n\u001b[1;32m    932\u001b[0m     \u001b[38;5;28;01mif\u001b[39;00m ready:\n\u001b[1;32m    933\u001b[0m         \u001b[38;5;28;01mreturn\u001b[39;00m [key\u001b[38;5;241m.\u001b[39mfileobj \u001b[38;5;28;01mfor\u001b[39;00m (key, events) \u001b[38;5;129;01min\u001b[39;00m ready]\n",
            "File \u001b[0;32m~/anaconda3/envs/FML/lib/python3.10/selectors.py:416\u001b[0m, in \u001b[0;36m_PollLikeSelector.select\u001b[0;34m(self, timeout)\u001b[0m\n\u001b[1;32m    414\u001b[0m ready \u001b[38;5;241m=\u001b[39m []\n\u001b[1;32m    415\u001b[0m \u001b[38;5;28;01mtry\u001b[39;00m:\n\u001b[0;32m--> 416\u001b[0m     fd_event_list \u001b[38;5;241m=\u001b[39m \u001b[38;5;28;43mself\u001b[39;49m\u001b[38;5;241;43m.\u001b[39;49m\u001b[43m_selector\u001b[49m\u001b[38;5;241;43m.\u001b[39;49m\u001b[43mpoll\u001b[49m\u001b[43m(\u001b[49m\u001b[43mtimeout\u001b[49m\u001b[43m)\u001b[49m\n\u001b[1;32m    417\u001b[0m \u001b[38;5;28;01mexcept\u001b[39;00m \u001b[38;5;167;01mInterruptedError\u001b[39;00m:\n\u001b[1;32m    418\u001b[0m     \u001b[38;5;28;01mreturn\u001b[39;00m ready\n",
            "\u001b[0;31mKeyboardInterrupt\u001b[0m: "
          ]
        }
      ],
      "source": [
        "# Training hyperparameters.\n",
        "device = 'mps'\n",
        "lr = 0.001\n",
        "epochs = 100\n",
        "\n",
        "# Instantiate our model and optimizer.\n",
        "model_mlp = MLP(512).to(device)\n",
        "optimizer = torch.optim.Adam(model_mlp.parameters(), lr=lr)\n",
        "\n",
        "# Training loop\n",
        "losses_and_accs = []\n",
        "for epoch in range(epochs):\n",
        "    loss = train_epoch(model_mlp, dl_train, optimizer, epoch, device=device)\n",
        "    (val_acc, _) = evaluate_model(model_mlp, dl_val, device=device)\n",
        "    losses_and_accs.append((loss, val_acc))\n",
        "\n",
        "# And finally plot the curves.\n",
        "plot_validation_curves(losses_and_accs)\n",
        "print(f'Accuracy report on TEST\\n: {evaluate_model(model_mlp, dl_test, device=device)[1]}')"
      ]
    },
    {
      "cell_type": "markdown",
      "id": "14689935",
      "metadata": {
        "id": "14689935"
      },
      "source": [
        "## Part 3: A CNN for CIFAR-10 Classification\n",
        "\n",
        "OK, we have a (simple) MLP baseline for comparison. Let's implement a simple CNN to classify CIFAR-10 images and see if we can beat the MLP.\n",
        "\n",
        "### Exercise 3.1: Defining the CNN\n",
        "\n",
        "Define a simple CNN model with a few convolutional and maxppooling layers -- not too many, since CIFAR-10 images are only 32x32 pixels! Use two fully-connected layers after the last convolution and before the logit outputs. Test out the model by passing a *single* image through it to make sure it's working."
      ]
    },
    {
      "cell_type": "code",
      "execution_count": null,
      "id": "5247ae16",
      "metadata": {
        "id": "5247ae16"
      },
      "outputs": [],
      "source": [
        "# Your code here.\n",
        "class CNN(nn.Module):\n",
        "    def __init__(self, channels=32, fc_width=128):\n",
        "        super().__init__()\n",
        "        self.conv1_1 = nn.Conv2d(3, channels, 3)\n",
        "        self.conv1_2 = nn.Conv2d(channels, channels, 3)\n",
        "        self.conv2_1 = nn.Conv2d(channels, channels, 3)\n",
        "        self.conv2_2 = nn.Conv2d(channels, channels, 3)\n",
        "        self.fc1 = nn.Linear(5*5*channels, fc_width)\n",
        "        self.fc2 = nn.Linear(fc_width, fc_width)\n",
        "        self.out = nn.Linear(fc_width, 10)\n",
        "\n",
        "    def forward(self, x):\n",
        "        x = self.extract(x)\n",
        "        x = F.log_softmax(self.out(x), -1)\n",
        "        return x\n",
        "\n",
        "    def extract(self, x):\n",
        "        x = F.relu(self.conv1_2(F.relu(self.conv1_1(x))))\n",
        "        x = F.max_pool2d(x, 2) # 16x16\n",
        "        x = F.relu(self.conv2_2(F.relu(self.conv2_1(x))))\n",
        "        x = F.max_pool2d(x, 2) # 8x8\n",
        "        x = x.view(len(x), -1)\n",
        "        x = F.relu(self.fc1(x))\n",
        "        x = F.relu(self.fc2(x))\n",
        "        return x\n"
      ]
    },
    {
      "cell_type": "code",
      "execution_count": null,
      "id": "9bf1eeef",
      "metadata": {
        "colab": {
          "base_uri": "https://localhost:8080/"
        },
        "id": "9bf1eeef",
        "outputId": "52d836c6-9ace-493d-b626-fe4bf19c7cc9"
      },
      "outputs": [
        {
          "data": {
            "text/plain": [
              "tensor([[-2.3038, -2.2394, -2.3606, -2.2369, -2.3334, -2.3564, -2.2842, -2.2458,\n",
              "         -2.3394, -2.3368],\n",
              "        [-2.3047, -2.2381, -2.3609, -2.2370, -2.3346, -2.3550, -2.2836, -2.2486,\n",
              "         -2.3384, -2.3356],\n",
              "        [-2.3029, -2.2420, -2.3606, -2.2351, -2.3337, -2.3555, -2.2866, -2.2447,\n",
              "         -2.3398, -2.3356],\n",
              "        [-2.3082, -2.2388, -2.3605, -2.2348, -2.3324, -2.3569, -2.2844, -2.2456,\n",
              "         -2.3385, -2.3366],\n",
              "        [-2.3028, -2.2391, -2.3609, -2.2378, -2.3360, -2.3587, -2.2841, -2.2444,\n",
              "         -2.3373, -2.3359],\n",
              "        [-2.3052, -2.2383, -2.3591, -2.2358, -2.3342, -2.3557, -2.2878, -2.2462,\n",
              "         -2.3386, -2.3356],\n",
              "        [-2.3050, -2.2379, -2.3609, -2.2353, -2.3349, -2.3530, -2.2866, -2.2488,\n",
              "         -2.3377, -2.3364],\n",
              "        [-2.3055, -2.2380, -2.3605, -2.2372, -2.3325, -2.3581, -2.2818, -2.2465,\n",
              "         -2.3393, -2.3374],\n",
              "        [-2.3055, -2.2382, -2.3621, -2.2354, -2.3334, -2.3556, -2.2835, -2.2473,\n",
              "         -2.3387, -2.3373],\n",
              "        [-2.3047, -2.2393, -2.3603, -2.2356, -2.3346, -2.3541, -2.2851, -2.2474,\n",
              "         -2.3399, -2.3355],\n",
              "        [-2.3039, -2.2379, -2.3605, -2.2362, -2.3351, -2.3547, -2.2866, -2.2474,\n",
              "         -2.3379, -2.3364],\n",
              "        [-2.3031, -2.2390, -2.3611, -2.2368, -2.3365, -2.3557, -2.2854, -2.2480,\n",
              "         -2.3354, -2.3356],\n",
              "        [-2.3038, -2.2403, -2.3637, -2.2379, -2.3353, -2.3577, -2.2806, -2.2453,\n",
              "         -2.3389, -2.3333],\n",
              "        [-2.3059, -2.2383, -2.3617, -2.2365, -2.3346, -2.3530, -2.2849, -2.2486,\n",
              "         -2.3392, -2.3338],\n",
              "        [-2.3004, -2.2395, -2.3623, -2.2376, -2.3337, -2.3574, -2.2869, -2.2473,\n",
              "         -2.3365, -2.3349],\n",
              "        [-2.3072, -2.2386, -2.3597, -2.2354, -2.3345, -2.3544, -2.2830, -2.2476,\n",
              "         -2.3375, -2.3388]], grad_fn=<LogSoftmaxBackward0>)"
            ]
          },
          "execution_count": 24,
          "metadata": {},
          "output_type": "execute_result"
        }
      ],
      "source": [
        "batch = torch.stack([d[0] for d in ds_val][:16])\n",
        "model_cnn = CNN(64)\n",
        "model_cnn(batch)"
      ]
    },
    {
      "cell_type": "markdown",
      "id": "41e4c413-6428-49db-a877-32f7ee2c67c1",
      "metadata": {
        "id": "41e4c413-6428-49db-a877-32f7ee2c67c1"
      },
      "source": [
        "### Exercise 3.2: Training and Evaluating your CNN\n",
        "\n",
        "Train the CNN using similar hyperparameters to what you used for the MLP above (epochs, learning rate). Evaluate the model in the same way as before."
      ]
    },
    {
      "cell_type": "code",
      "execution_count": null,
      "id": "a98f9664",
      "metadata": {
        "colab": {
          "base_uri": "https://localhost:8080/",
          "height": 1000
        },
        "id": "a98f9664",
        "outputId": "df5f68e3-7255-4502-b0bd-b1ec7a7521cc"
      },
      "outputs": [
        {
          "name": "stderr",
          "output_type": "stream",
          "text": [
            "Training epoch 0: 100%|██████████| 88/88 [00:12<00:00,  7.02it/s]\n",
            "Training epoch 1: 100%|██████████| 88/88 [00:12<00:00,  7.18it/s]\n",
            "Training epoch 2: 100%|██████████| 88/88 [00:11<00:00,  7.39it/s]\n",
            "Training epoch 3: 100%|██████████| 88/88 [00:11<00:00,  7.37it/s]\n",
            "Training epoch 4: 100%|██████████| 88/88 [00:11<00:00,  7.50it/s]\n",
            "Training epoch 5: 100%|██████████| 88/88 [00:11<00:00,  7.82it/s]\n",
            "Training epoch 6: 100%|██████████| 88/88 [00:11<00:00,  7.95it/s]\n",
            "Training epoch 7: 100%|██████████| 88/88 [00:11<00:00,  7.99it/s]\n",
            "Training epoch 8: 100%|██████████| 88/88 [00:10<00:00,  8.08it/s]\n",
            "Training epoch 9: 100%|██████████| 88/88 [00:10<00:00,  8.00it/s]\n",
            "Training epoch 10: 100%|██████████| 88/88 [00:11<00:00,  7.87it/s]\n",
            "Training epoch 11: 100%|██████████| 88/88 [00:11<00:00,  7.57it/s]\n",
            "Training epoch 12: 100%|██████████| 88/88 [00:11<00:00,  7.50it/s]\n",
            "Training epoch 13: 100%|██████████| 88/88 [00:11<00:00,  7.34it/s]\n",
            "Training epoch 14: 100%|██████████| 88/88 [00:11<00:00,  7.41it/s]\n",
            "Training epoch 15: 100%|██████████| 88/88 [00:11<00:00,  7.46it/s]\n",
            "Training epoch 16: 100%|██████████| 88/88 [00:12<00:00,  7.20it/s]\n",
            "Training epoch 17: 100%|██████████| 88/88 [00:12<00:00,  7.23it/s]\n",
            "Training epoch 18: 100%|██████████| 88/88 [00:12<00:00,  7.33it/s]\n",
            "Training epoch 19: 100%|██████████| 88/88 [00:11<00:00,  7.44it/s]\n",
            "Training epoch 20: 100%|██████████| 88/88 [00:11<00:00,  7.42it/s]\n",
            "Training epoch 21: 100%|██████████| 88/88 [00:11<00:00,  7.38it/s]\n",
            "Training epoch 22: 100%|██████████| 88/88 [00:11<00:00,  7.47it/s]\n",
            "Training epoch 23: 100%|██████████| 88/88 [00:11<00:00,  7.49it/s]\n",
            "Training epoch 24: 100%|██████████| 88/88 [00:11<00:00,  7.47it/s]\n"
          ]
        },
        {
          "name": "stdout",
          "output_type": "stream",
          "text": [
            "Accuracy report on TEST\n",
            ":               precision    recall  f1-score   support\n",
            "\n",
            "           0      0.740     0.737     0.738      1000\n",
            "           1      0.780     0.853     0.815      1000\n",
            "           2      0.635     0.530     0.578      1000\n",
            "           3      0.528     0.525     0.526      1000\n",
            "           4      0.689     0.662     0.675      1000\n",
            "           5      0.528     0.705     0.604      1000\n",
            "           6      0.814     0.793     0.803      1000\n",
            "           7      0.829     0.669     0.740      1000\n",
            "           8      0.805     0.838     0.821      1000\n",
            "           9      0.808     0.779     0.793      1000\n",
            "\n",
            "    accuracy                          0.709     10000\n",
            "   macro avg      0.716     0.709     0.710     10000\n",
            "weighted avg      0.716     0.709     0.710     10000\n",
            "\n"
          ]
        },
        {
          "data": {
            "image/png": "[encoded data removed]",
            "text/plain": [
              "<Figure size 1600x800 with 2 Axes>"
            ]
          },
          "metadata": {},
          "output_type": "display_data"
        }
      ],
      "source": [
        "# Your code here.\n",
        "# Training hyperparameters.\n",
        "device = 'cuda'\n",
        "lr = 0.001\n",
        "epochs = 25\n",
        "\n",
        "# Instantiate our model and optimizer.\n",
        "model_mlp = None\n",
        "model_cnn = CNN(32).to(device)\n",
        "optimizer = torch.optim.Adam(model_cnn.parameters(), lr=lr)\n",
        "\n",
        "# Training loop\n",
        "losses_and_accs = []\n",
        "for epoch in range(epochs):\n",
        "    loss = train_epoch(model_cnn, dl_train, optimizer, epoch, device=device)\n",
        "    (val_acc, _) = evaluate_model(model_cnn, dl_val, device=device)\n",
        "    losses_and_accs.append((loss, val_acc))\n",
        "\n",
        "# And finally plot the curves.\n",
        "plot_validation_curves(losses_and_accs)\n",
        "print(f'Accuracy report on TEST\\n: {evaluate_model(model_cnn, dl_test, device=device)[1]}')"
      ]
    },
    {
      "cell_type": "markdown",
      "id": "a75dd514-4970-473c-84c5-4632b32fd599",
      "metadata": {
        "id": "a75dd514-4970-473c-84c5-4632b32fd599"
      },
      "source": [
        "## Going Forward\n",
        "\n",
        "In practice we usually don't train deep models from *scratch*. Especially if we don't have a lot of annotated data we almost always use a **pre-trained** model either as a **feature extractor** or to **fine-tune** on our problem. The Torchvision library supports access to a [huge variety or pre-trained models](https://pytorch.org/vision/stable/models/resnet.html) that you can use for *exactly* this purpose. Keep this in mind if you have an image recognition problem -- you can use a pre-trained model as a **feature extractor** and then train a *simple* MLP to solve your classification problem. This works *very* well in practice."
      ]
    },
    {
      "cell_type": "code",
      "execution_count": null,
      "id": "f04809f3-3577-43a4-8f88-fca759137d68",
      "metadata": {
        "colab": {
          "base_uri": "https://localhost:8080/",
          "height": 193
        },
        "id": "f04809f3-3577-43a4-8f88-fca759137d68",
        "outputId": "f4c8d680-f3fb-4e98-d9bb-174b451d3f85"
      },
      "outputs": [
        {
          "ename": "NameError",
          "evalue": "ignored",
          "output_type": "error",
          "traceback": [
            "\u001b[0;31m---------------------------------------------------------------------------\u001b[0m",
            "\u001b[0;31mNameError\u001b[0m                                 Traceback (most recent call last)",
            "\u001b[0;32m<ipython-input-1-805201995c29>\u001b[0m in \u001b[0;36m<cell line: 1>\u001b[0;34m()\u001b[0m\n\u001b[0;32m----> 1\u001b[0;31m \u001b[0mX_tr\u001b[0m \u001b[0;34m=\u001b[0m \u001b[0mmodel_cnn\u001b[0m\u001b[0;34m.\u001b[0m\u001b[0mto\u001b[0m\u001b[0;34m(\u001b[0m\u001b[0;34m'cpu'\u001b[0m\u001b[0;34m)\u001b[0m\u001b[0;34m.\u001b[0m\u001b[0mextract\u001b[0m\u001b[0;34m(\u001b[0m\u001b[0mtorch\u001b[0m\u001b[0;34m.\u001b[0m\u001b[0mstack\u001b[0m\u001b[0;34m(\u001b[0m\u001b[0;34m[\u001b[0m\u001b[0md\u001b[0m\u001b[0;34m[\u001b[0m\u001b[0;36m0\u001b[0m\u001b[0;34m]\u001b[0m \u001b[0;32mfor\u001b[0m \u001b[0md\u001b[0m \u001b[0;32min\u001b[0m \u001b[0mds_train\u001b[0m\u001b[0;34m]\u001b[0m\u001b[0;34m)\u001b[0m\u001b[0;34m.\u001b[0m\u001b[0mto\u001b[0m\u001b[0;34m(\u001b[0m\u001b[0;34m'cpu'\u001b[0m\u001b[0;34m)\u001b[0m\u001b[0;34m)\u001b[0m\u001b[0;34m\u001b[0m\u001b[0;34m\u001b[0m\u001b[0m\n\u001b[0m",
            "\u001b[0;31mNameError\u001b[0m: name 'model_cnn' is not defined"
          ]
        }
      ],
      "source": [
        "X_tr = model_cnn.to('cpu').extract(torch.stack([d[0] for d in ds_train]).to('cpu'))"
      ]
    },
    {
      "cell_type": "code",
      "execution_count": null,
      "id": "KYqy_KeBLXMJ",
      "metadata": {
        "id": "KYqy_KeBLXMJ"
      },
      "outputs": [],
      "source": [
        "X_tr = X_tr.detach().numpy()"
      ]
    },
    {
      "cell_type": "code",
      "execution_count": null,
      "id": "44m2kcNyLaEj",
      "metadata": {
        "id": "44m2kcNyLaEj"
      },
      "outputs": [],
      "source": [
        "labels = np.array([d[1] for d in ds_train])"
      ]
    },
    {
      "cell_type": "code",
      "execution_count": null,
      "id": "743MJ1qWLbsh",
      "metadata": {
        "id": "743MJ1qWLbsh"
      },
      "outputs": [],
      "source": [
        "from sklearn.svm import LinearSVC\n",
        "svc = LinearSVC().fit(X_tr, labels)"
      ]
    },
    {
      "cell_type": "code",
      "execution_count": null,
      "id": "Ru-qx-2lLdeh",
      "metadata": {
        "id": "Ru-qx-2lLdeh"
      },
      "outputs": [],
      "source": [
        "X_te = model_cnn.to('cpu').extract(torch.stack([d[0] for d in ds_test]).to('cpu')).detach().numpy()"
      ]
    },
    {
      "cell_type": "code",
      "execution_count": null,
      "id": "t5xN2Qy7Lf6J",
      "metadata": {
        "id": "t5xN2Qy7Lf6J"
      },
      "outputs": [],
      "source": [
        "test_labels = np.array([d[1] for d in ds_test])"
      ]
    },
    {
      "cell_type": "code",
      "execution_count": null,
      "id": "dr6WWNqnLiTZ",
      "metadata": {
        "id": "dr6WWNqnLiTZ"
      },
      "outputs": [],
      "source": [
        "np.mean(svc.predict(X_te) == test_labels)"
      ]
    },
    {
      "cell_type": "code",
      "execution_count": null,
      "id": "dc3gjYadLjwT",
      "metadata": {
        "id": "dc3gjYadLjwT"
      },
      "outputs": [],
      "source": [
        "plt.imshow(data[0].permute(1, 2, 0))"
      ]
    },
    {
      "cell_type": "code",
      "execution_count": null,
      "id": "H4eWJOgGLmaR",
      "metadata": {
        "id": "H4eWJOgGLmaR"
      },
      "outputs": [],
      "source": [
        "torch.exp(model(data[0:10]))"
      ]
    },
    {
      "cell_type": "code",
      "execution_count": null,
      "id": "A7rJ4SDxLoM6",
      "metadata": {
        "id": "A7rJ4SDxLoM6"
      },
      "outputs": [],
      "source": [
        "data[0:1].shape"
      ]
    }
  ],
  "metadata": {
    "colab": {
      "provenance": []
    },
    "kernelspec": {
      "display_name": "Python 3 (ipykernel)",
      "language": "python",
      "name": "python3"
    },
    "language_info": {
      "codemirror_mode": {
        "name": "ipython",
        "version": 3
      },
      "file_extension": ".py",
      "mimetype": "text/x-python",
      "name": "python",
      "nbconvert_exporter": "python",
      "pygments_lexer": "ipython3",
      "version": "3.10.13"
    }
  },
  "nbformat": 4,
  "nbformat_minor": 5
}
