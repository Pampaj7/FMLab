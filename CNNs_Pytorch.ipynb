{
 "cells": [
  {
   "cell_type": "markdown",
   "id": "9bdf7099-a6d0-4b18-9216-f8e6701842f6",
   "metadata": {},
   "source": [
    "# CNNs, Pytorch, and You\n",
    "\n",
    "In this short notebook we will train an MLP and a CNN to classify MNIST digits."
   ]
  },
  {
   "cell_type": "markdown",
   "id": "b3117a44-c264-469e-91b6-2cc445413903",
   "metadata": {
    "tags": []
   },
   "source": [
    "## First steps\n",
    "\n",
    "We begin with some standard imports, as usual."
   ]
  },
  {
   "cell_type": "code",
   "execution_count": 14,
   "id": "bfcdca90-bf99-4c35-b7e3-961f6ba45cfa",
   "metadata": {},
   "outputs": [
    {
     "name": "stdout",
     "output_type": "stream",
     "text": [
      "Using mps device\n"
     ]
    }
   ],
   "source": [
    "# Standard imports\n",
    "import numpy as np\n",
    "import matplotlib.pyplot as plt\n",
    "plt.style.use('dark_background')\n",
    "\n",
    "# Standard Pytorch imports (note the aliases).\n",
    "import torch\n",
    "import torch.nn as nn\n",
    "import torch.nn.functional as F\n",
    "\n",
    "device = (\n",
    "    \"cuda\"\n",
    "    if torch.cuda.is_available()\n",
    "    else \"mps\"\n",
    "    if torch.backends.mps.is_available()\n",
    "    else \"cpu\"\n",
    ")\n",
    "\n",
    "\n",
    "print(f\"Using {device} device\")\n"
   ]
  },
  {
   "cell_type": "markdown",
   "id": "5b6f7466-0f8f-406e-a4e7-24e8a8135f8a",
   "metadata": {},
   "source": [
    "## Dataset and Dataloader Preparation"
   ]
  },
  {
   "cell_type": "markdown",
   "id": "8ebc2242-e79a-4e67-af09-8318126dde0e",
   "metadata": {},
   "source": [
    "We will work with the venerable MNIST dataset of handwritten digits in this laboratory. The `torchvision` library provides classes for a bunch of standard datasets, including MNIST. These classes automatically download and prepare the dataset for use. Note the use of `random_split()` to create the validation set. \n",
    "\n",
    "In this cell I also define the conversion and normalization transformation pipeline."
   ]
  },
  {
   "cell_type": "code",
   "execution_count": 15,
   "id": "3af0151f-9897-4fa0-8832-4603979427df",
   "metadata": {},
   "outputs": [],
   "source": [
    "# Download and load the MNIST dataset.\n",
    "from torchvision.datasets import MNIST\n",
    "\n",
    "# Setup a transformation pipeline for the dataloaders.\n",
    "import torchvision.transforms as transforms\n",
    "\n",
    "# Define the tranformation pipeline.\n",
    "transform = transforms.Compose([\n",
    "    transforms.ToTensor(),\n",
    "    transforms.Normalize((0.1307,), (0.3081,)) # These magic numbers are the mean and std of MNIST.\n",
    "])\n",
    "\n",
    "# Load the MNIST training and test splits.\n",
    "ds_train = MNIST(root='./data', download=True, train=True, transform=transform)\n",
    "ds_test  = MNIST(root='./data', download=True, train=False, transform=transform)\n",
    "\n",
    "# Randomly split training set into train and val.\n",
    "val_size = 2000\n",
    "(ds_train, ds_val) = torch.utils.data.random_split(ds_train, (len(ds_train)-val_size, val_size))"
   ]
  },
  {
   "cell_type": "markdown",
   "id": "088c5c35-0641-4d93-89ba-1bc003153512",
   "metadata": {},
   "source": [
    "We set up dataloaders for **all** of the datasets -- even though the validation set is small, for larger models or larger images it usually isn't possible to pass the entire set through the model in one batch. This is good practice."
   ]
  },
  {
   "cell_type": "code",
   "execution_count": 16,
   "id": "7cac5ede-9040-4e48-a801-ab60d60722eb",
   "metadata": {
    "tags": []
   },
   "outputs": [],
   "source": [
    "# Setup dataloaders for all three datasets. Use the largest batch size possible.\n",
    "batch_size = 256\n",
    "dl_train = torch.utils.data.DataLoader(ds_train, batch_size, shuffle=True)\n",
    "dl_val = torch.utils.data.DataLoader(ds_val, batch_size)\n",
    "dl_test = torch.utils.data.DataLoader(ds_test, batch_size)"
   ]
  },
  {
   "cell_type": "markdown",
   "id": "d8f7fc9b-2a69-48eb-bea1-9cf97117ebf8",
   "metadata": {},
   "source": [
    "## Support Functions for Training and Testing\n",
    "\n",
    "Here I have consolidated some of the functions developed in the last lab into reusable components for training and evaluating arbitrary models."
   ]
  },
  {
   "cell_type": "code",
   "execution_count": 17,
   "id": "81157a27-3c60-432d-b3a0-6b6741f42747",
   "metadata": {},
   "outputs": [],
   "source": [
    "from tqdm import tqdm\n",
    "from sklearn.metrics import accuracy_score, classification_report\n",
    "\n",
    "# Function to train a model for a single epoch over the data loader.\n",
    "def train_epoch(model, dl, opt, epoch='Unknown', device='cpu'):\n",
    "    model.train()\n",
    "    losses = []\n",
    "    for (xs, ys) in tqdm(dl, desc=f'Training epoch {epoch}', leave=True):\n",
    "        xs = xs.to(device)\n",
    "        ys = ys.to(device)\n",
    "        opt.zero_grad()\n",
    "        logits = model(xs)\n",
    "        loss = F.cross_entropy(logits, ys)\n",
    "        loss.backward()\n",
    "        optimizer.step()\n",
    "        losses.append(loss.item())\n",
    "    return np.mean(losses)\n",
    "\n",
    "# Function to evaluate model over all samples in the data loader.\n",
    "def evaluate_model(model, dl, device='cpu'):\n",
    "    model.eval()\n",
    "    predictions = []\n",
    "    gts = []\n",
    "    for (xs, ys) in tqdm(dl, desc='Evaluating', leave=False):\n",
    "        xs = xs.to(device)\n",
    "        preds = torch.argmax(model(xs), dim=1)\n",
    "        gts.append(ys)\n",
    "        predictions.append(preds.detach().cpu().numpy())\n",
    "        \n",
    "    # Return accuracy score and classification report.\n",
    "    return (accuracy_score(np.hstack(gts), np.hstack(predictions)),\n",
    "            classification_report(np.hstack(gts), np.hstack(predictions), zero_division=0, digits=3))\n",
    "\n",
    "# Simple function to plot the loss curve and validation accuracy.\n",
    "def plot_validation_curves(losses_and_accs):\n",
    "    losses = [x for (x, _) in losses_and_accs]\n",
    "    accs = [x for (_, x) in losses_and_accs]\n",
    "    plt.figure(figsize=(16, 8))\n",
    "    plt.subplot(1, 2, 1)\n",
    "    plt.plot(losses)\n",
    "    plt.xlabel('Epoch')\n",
    "    plt.ylabel('Loss')\n",
    "    plt.title('Average Training Loss per Epoch')\n",
    "    plt.subplot(1, 2, 2)\n",
    "    plt.plot(accs)\n",
    "    plt.xlabel('Epoch')\n",
    "    plt.ylabel('Validation Accuracy')\n",
    "    plt.title(f'Best Accuracy = {np.max(accs)} @ epoch {np.argmax(accs)}')\n",
    "\n",
    "# Simple function to count the parameters in a model.\n",
    "def count_parameters(model):\n",
    "    return np.sum([p.numel() for p in model.parameters()])"
   ]
  },
  {
   "cell_type": "markdown",
   "id": "9b6fa9b0-7a1f-4916-b068-bb17c8d03252",
   "metadata": {},
   "source": [
    "## An MLP baseline\n",
    "\n",
    "We saw how shallow (and deep) MLPs work on MNIST in the last lab. Here I use the object-oriented way of constructing models (by inheriting from `nn.Module`. This defines a two hidden layer MLP, with a hidden layer sizes of 128 and 32."
   ]
  },
  {
   "cell_type": "code",
   "execution_count": 18,
   "id": "1569b72b-2284-47fc-86bc-e3eaa0cfdb60",
   "metadata": {},
   "outputs": [],
   "source": [
    "# A simple MLP model with two hidden layers, this will be out baseline.\n",
    "class MLP(nn.Module):\n",
    "    def __init__(self):\n",
    "        super().__init__()\n",
    "        self.fc1 = nn.Linear(28*28, 128)\n",
    "        self.fc2 = nn.Linear(128, 32)\n",
    "        self.output = nn.Linear(32, 10)\n",
    "        self.relu = nn.ReLU()\n",
    "        \n",
    "    def forward(self, x):\n",
    "        x = self.fc1(x.view(len(x), -1))\n",
    "        x = self.relu(x)\n",
    "        x = self.fc2(x)\n",
    "        x = self.relu(x)\n",
    "        x = self.output(x)\n",
    "        return x"
   ]
  },
  {
   "cell_type": "markdown",
   "id": "6d502035-9e1d-4709-a93e-d3f8c4586e96",
   "metadata": {},
   "source": [
    "Now we can train the model..."
   ]
  },
  {
   "cell_type": "code",
   "execution_count": 19,
   "id": "89422ffb-8916-44e4-8524-2c493347a4a1",
   "metadata": {},
   "outputs": [
    {
     "name": "stderr",
     "output_type": "stream",
     "text": [
      "Training epoch 0: 100%|██████████| 227/227 [00:02<00:00, 95.51it/s]\n",
      "Training epoch 1: 100%|██████████| 227/227 [00:02<00:00, 96.39it/s]\n",
      "Training epoch 2: 100%|██████████| 227/227 [00:02<00:00, 97.01it/s]\n",
      "Training epoch 3: 100%|██████████| 227/227 [00:02<00:00, 96.82it/s]\n",
      "Training epoch 4: 100%|██████████| 227/227 [00:02<00:00, 96.88it/s]\n",
      "Training epoch 5: 100%|██████████| 227/227 [00:02<00:00, 96.80it/s]\n",
      "Training epoch 6: 100%|██████████| 227/227 [00:02<00:00, 97.11it/s]\n",
      "Training epoch 7: 100%|██████████| 227/227 [00:02<00:00, 96.52it/s]\n",
      "Training epoch 8: 100%|██████████| 227/227 [00:02<00:00, 97.74it/s]\n",
      "Training epoch 9: 100%|██████████| 227/227 [00:02<00:00, 97.20it/s]\n",
      "Training epoch 10: 100%|██████████| 227/227 [00:02<00:00, 96.78it/s]\n",
      "Training epoch 11: 100%|██████████| 227/227 [00:02<00:00, 96.90it/s]\n",
      "Training epoch 12: 100%|██████████| 227/227 [00:02<00:00, 96.80it/s]\n",
      "Training epoch 13: 100%|██████████| 227/227 [00:02<00:00, 97.09it/s]\n",
      "Training epoch 14: 100%|██████████| 227/227 [00:02<00:00, 96.41it/s]\n",
      "Training epoch 15: 100%|██████████| 227/227 [00:02<00:00, 97.10it/s]\n",
      "Training epoch 16: 100%|██████████| 227/227 [00:02<00:00, 96.57it/s]\n",
      "Training epoch 17: 100%|██████████| 227/227 [00:02<00:00, 97.14it/s]\n",
      "Training epoch 18: 100%|██████████| 227/227 [00:02<00:00, 97.07it/s]\n",
      "Training epoch 19: 100%|██████████| 227/227 [00:02<00:00, 97.64it/s]\n",
      "Training epoch 20: 100%|██████████| 227/227 [00:02<00:00, 97.10it/s]\n",
      "Training epoch 21: 100%|██████████| 227/227 [00:02<00:00, 96.92it/s]\n",
      "Training epoch 22: 100%|██████████| 227/227 [00:02<00:00, 97.32it/s]\n",
      "Training epoch 23: 100%|██████████| 227/227 [00:02<00:00, 97.03it/s]\n",
      "Training epoch 24: 100%|██████████| 227/227 [00:02<00:00, 97.17it/s]\n",
      "Training epoch 25: 100%|██████████| 227/227 [00:02<00:00, 96.87it/s]\n",
      "Training epoch 26: 100%|██████████| 227/227 [00:02<00:00, 97.07it/s]\n",
      "Training epoch 27: 100%|██████████| 227/227 [00:02<00:00, 96.63it/s]\n",
      "Training epoch 28: 100%|██████████| 227/227 [00:02<00:00, 95.98it/s]\n",
      "Training epoch 29: 100%|██████████| 227/227 [00:02<00:00, 96.44it/s]\n",
      "Training epoch 30: 100%|██████████| 227/227 [00:02<00:00, 97.14it/s]\n",
      "Training epoch 31: 100%|██████████| 227/227 [00:02<00:00, 96.63it/s]\n",
      "Training epoch 32: 100%|██████████| 227/227 [00:02<00:00, 97.09it/s]\n",
      "Training epoch 33: 100%|██████████| 227/227 [00:02<00:00, 96.87it/s]\n",
      "Training epoch 34: 100%|██████████| 227/227 [00:02<00:00, 97.00it/s]\n",
      "Training epoch 35: 100%|██████████| 227/227 [00:02<00:00, 97.19it/s]\n",
      "Training epoch 36: 100%|██████████| 227/227 [00:02<00:00, 96.92it/s]\n",
      "Training epoch 37: 100%|██████████| 227/227 [00:02<00:00, 97.05it/s]\n",
      "Training epoch 38: 100%|██████████| 227/227 [00:02<00:00, 97.00it/s]\n",
      "Training epoch 39: 100%|██████████| 227/227 [00:02<00:00, 97.06it/s]\n",
      "                                                            \r"
     ]
    },
    {
     "name": "stdout",
     "output_type": "stream",
     "text": [
      "Accuracy report on TEST\n",
      ":               precision    recall  f1-score   support\n",
      "\n",
      "           0      0.977     0.986     0.981       980\n",
      "           1      0.977     0.991     0.984      1135\n",
      "           2      0.978     0.969     0.974      1032\n",
      "           3      0.965     0.983     0.974      1010\n",
      "           4      0.972     0.973     0.972       982\n",
      "           5      0.969     0.972     0.970       892\n",
      "           6      0.974     0.977     0.976       958\n",
      "           7      0.972     0.964     0.968      1028\n",
      "           8      0.975     0.961     0.968       974\n",
      "           9      0.975     0.956     0.965      1009\n",
      "\n",
      "    accuracy                          0.973     10000\n",
      "   macro avg      0.973     0.973     0.973     10000\n",
      "weighted avg      0.973     0.973     0.973     10000\n",
      "\n"
     ]
    },
    {
     "data": {
      "image/png": "[encoded data removed]",
      "text/plain": [
       "<Figure size 1600x800 with 2 Axes>"
      ]
     },
     "metadata": {},
     "output_type": "display_data"
    }
   ],
   "source": [
    "# Training hyperparameters.\n",
    "device = 'cpu'\n",
    "lr = 0.0001\n",
    "epochs = 40\n",
    "\n",
    "# Instantiate our model and optimizer.\n",
    "model_mlp = MLP().to(device)\n",
    "optimizer = torch.optim.Adam(model_mlp.parameters(), lr=lr)\n",
    "\n",
    "# Our outer training loop, collect loss on train and accuracy on validation.\n",
    "losses_and_accs = []\n",
    "for epoch in range(epochs):\n",
    "    loss = train_epoch(model_mlp, dl_train, optimizer, epoch, device=device)\n",
    "    (val_acc, _) = evaluate_model(model_mlp, dl_val, device=device)\n",
    "    losses_and_accs.append((loss, val_acc))\n",
    "    \n",
    "# And finally plot the curves.\n",
    "plot_validation_curves(losses_and_accs)\n",
    "print(f'Accuracy report on TEST\\n: {evaluate_model(model_mlp, dl_test, device=device)[1]}')"
   ]
  },
  {
   "cell_type": "markdown",
   "id": "1939807a-c286-4bff-8293-8a3dba903719",
   "metadata": {},
   "source": [
    "## A CNN for MNIST Classification\n",
    "\n",
    "OK, we have a (simple) MLP baseline for comparison. Let's implement a simple CNN to classify digits and see if we can beat the MLP. "
   ]
  },
  {
   "cell_type": "code",
   "execution_count": 20,
   "id": "1cf71792-a812-4326-b6f8-1c1bf9f78c3b",
   "metadata": {},
   "outputs": [],
   "source": [
    "# A simply Convolutional Neural Network with two convolutional layers followed by maxpools.\n",
    "# The final convolutional layer is fed into two fully-connected layers followed by the\n",
    "# final output logits.\n",
    "class CNN(nn.Module):\n",
    "    def __init__(self):\n",
    "        super().__init__()\n",
    "        self.conv1 = nn.Conv2d(1, 32, (5, 5))\n",
    "        self.conv2 = nn.Conv2d(32, 32, (5, 5))\n",
    "        self.fc1 = nn.Linear(4*4*32, 64)\n",
    "        self.fc2 = nn.Linear(64, 64)\n",
    "        self.output = nn.Linear(64, 10)\n",
    "        self.relu = nn.ReLU()\n",
    "        self.maxpool = nn.MaxPool2d(2, 2)\n",
    "        \n",
    "    def forward(self, xs):\n",
    "        x = self.maxpool(self.relu(self.conv1(xs)))\n",
    "        x = self.maxpool(self.relu(self.conv2(x)))\n",
    "        x = x.view(len(xs), -1)\n",
    "        x = self.relu(self.fc1(x))\n",
    "        x = self.relu(self.fc2(x))\n",
    "        x = self.output(x)\n",
    "        return x"
   ]
  },
  {
   "cell_type": "code",
   "execution_count": 21,
   "id": "c7301a50-1aa7-4179-9956-f0d52999bcfa",
   "metadata": {},
   "outputs": [
    {
     "name": "stderr",
     "output_type": "stream",
     "text": [
      "Training epoch 0:  74%|███████▍  | 168/227 [00:12<00:04, 13.38it/s]\n"
     ]
    },
    {
     "ename": "KeyboardInterrupt",
     "evalue": "",
     "output_type": "error",
     "traceback": [
      "\u001b[0;31m---------------------------------------------------------------------------\u001b[0m",
      "\u001b[0;31mKeyboardInterrupt\u001b[0m                         Traceback (most recent call last)",
      "Cell \u001b[0;32mIn[21], line 12\u001b[0m\n\u001b[1;32m     10\u001b[0m losses_and_accs \u001b[38;5;241m=\u001b[39m []\n\u001b[1;32m     11\u001b[0m \u001b[38;5;28;01mfor\u001b[39;00m epoch \u001b[38;5;129;01min\u001b[39;00m \u001b[38;5;28mrange\u001b[39m(epochs):\n\u001b[0;32m---> 12\u001b[0m     loss \u001b[38;5;241m=\u001b[39m \u001b[43mtrain_epoch\u001b[49m\u001b[43m(\u001b[49m\u001b[43mmodel_cnn\u001b[49m\u001b[43m,\u001b[49m\u001b[43m \u001b[49m\u001b[43mdl_train\u001b[49m\u001b[43m,\u001b[49m\u001b[43m \u001b[49m\u001b[43moptimizer\u001b[49m\u001b[43m,\u001b[49m\u001b[43m \u001b[49m\u001b[43mepoch\u001b[49m\u001b[43m,\u001b[49m\u001b[43m \u001b[49m\u001b[43mdevice\u001b[49m\u001b[38;5;241;43m=\u001b[39;49m\u001b[43mdevice\u001b[49m\u001b[43m)\u001b[49m\n\u001b[1;32m     13\u001b[0m     (val_acc, _) \u001b[38;5;241m=\u001b[39m evaluate_model(model_cnn, dl_val, device\u001b[38;5;241m=\u001b[39mdevice)\n\u001b[1;32m     14\u001b[0m     losses_and_accs\u001b[38;5;241m.\u001b[39mappend((loss, val_acc))\n",
      "Cell \u001b[0;32mIn[17], line 14\u001b[0m, in \u001b[0;36mtrain_epoch\u001b[0;34m(model, dl, opt, epoch, device)\u001b[0m\n\u001b[1;32m     12\u001b[0m logits \u001b[38;5;241m=\u001b[39m model(xs)\n\u001b[1;32m     13\u001b[0m loss \u001b[38;5;241m=\u001b[39m F\u001b[38;5;241m.\u001b[39mcross_entropy(logits, ys)\n\u001b[0;32m---> 14\u001b[0m \u001b[43mloss\u001b[49m\u001b[38;5;241;43m.\u001b[39;49m\u001b[43mbackward\u001b[49m\u001b[43m(\u001b[49m\u001b[43m)\u001b[49m\n\u001b[1;32m     15\u001b[0m optimizer\u001b[38;5;241m.\u001b[39mstep()\n\u001b[1;32m     16\u001b[0m losses\u001b[38;5;241m.\u001b[39mappend(loss\u001b[38;5;241m.\u001b[39mitem())\n",
      "File \u001b[0;32m~/anaconda3/envs/FML/lib/python3.10/site-packages/torch/_tensor.py:503\u001b[0m, in \u001b[0;36mTensor.backward\u001b[0;34m(self, gradient, retain_graph, create_graph, inputs)\u001b[0m\n\u001b[1;32m    493\u001b[0m \u001b[38;5;28;01mif\u001b[39;00m has_torch_function_unary(\u001b[38;5;28mself\u001b[39m):\n\u001b[1;32m    494\u001b[0m     \u001b[38;5;28;01mreturn\u001b[39;00m handle_torch_function(\n\u001b[1;32m    495\u001b[0m         Tensor\u001b[38;5;241m.\u001b[39mbackward,\n\u001b[1;32m    496\u001b[0m         (\u001b[38;5;28mself\u001b[39m,),\n\u001b[0;32m   (...)\u001b[0m\n\u001b[1;32m    501\u001b[0m         inputs\u001b[38;5;241m=\u001b[39minputs,\n\u001b[1;32m    502\u001b[0m     )\n\u001b[0;32m--> 503\u001b[0m \u001b[43mtorch\u001b[49m\u001b[38;5;241;43m.\u001b[39;49m\u001b[43mautograd\u001b[49m\u001b[38;5;241;43m.\u001b[39;49m\u001b[43mbackward\u001b[49m\u001b[43m(\u001b[49m\n\u001b[1;32m    504\u001b[0m \u001b[43m    \u001b[49m\u001b[38;5;28;43mself\u001b[39;49m\u001b[43m,\u001b[49m\u001b[43m \u001b[49m\u001b[43mgradient\u001b[49m\u001b[43m,\u001b[49m\u001b[43m \u001b[49m\u001b[43mretain_graph\u001b[49m\u001b[43m,\u001b[49m\u001b[43m \u001b[49m\u001b[43mcreate_graph\u001b[49m\u001b[43m,\u001b[49m\u001b[43m \u001b[49m\u001b[43minputs\u001b[49m\u001b[38;5;241;43m=\u001b[39;49m\u001b[43minputs\u001b[49m\n\u001b[1;32m    505\u001b[0m \u001b[43m\u001b[49m\u001b[43m)\u001b[49m\n",
      "File \u001b[0;32m~/anaconda3/envs/FML/lib/python3.10/site-packages/torch/autograd/__init__.py:266\u001b[0m, in \u001b[0;36mbackward\u001b[0;34m(tensors, grad_tensors, retain_graph, create_graph, grad_variables, inputs)\u001b[0m\n\u001b[1;32m    261\u001b[0m     retain_graph \u001b[38;5;241m=\u001b[39m create_graph\n\u001b[1;32m    263\u001b[0m \u001b[38;5;66;03m# The reason we repeat the same comment below is that\u001b[39;00m\n\u001b[1;32m    264\u001b[0m \u001b[38;5;66;03m# some Python versions print out the first line of a multi-line function\u001b[39;00m\n\u001b[1;32m    265\u001b[0m \u001b[38;5;66;03m# calls in the traceback and some print out the last line\u001b[39;00m\n\u001b[0;32m--> 266\u001b[0m \u001b[43mVariable\u001b[49m\u001b[38;5;241;43m.\u001b[39;49m\u001b[43m_execution_engine\u001b[49m\u001b[38;5;241;43m.\u001b[39;49m\u001b[43mrun_backward\u001b[49m\u001b[43m(\u001b[49m\u001b[43m  \u001b[49m\u001b[38;5;66;43;03m# Calls into the C++ engine to run the backward pass\u001b[39;49;00m\n\u001b[1;32m    267\u001b[0m \u001b[43m    \u001b[49m\u001b[43mtensors\u001b[49m\u001b[43m,\u001b[49m\n\u001b[1;32m    268\u001b[0m \u001b[43m    \u001b[49m\u001b[43mgrad_tensors_\u001b[49m\u001b[43m,\u001b[49m\n\u001b[1;32m    269\u001b[0m \u001b[43m    \u001b[49m\u001b[43mretain_graph\u001b[49m\u001b[43m,\u001b[49m\n\u001b[1;32m    270\u001b[0m \u001b[43m    \u001b[49m\u001b[43mcreate_graph\u001b[49m\u001b[43m,\u001b[49m\n\u001b[1;32m    271\u001b[0m \u001b[43m    \u001b[49m\u001b[43minputs\u001b[49m\u001b[43m,\u001b[49m\n\u001b[1;32m    272\u001b[0m \u001b[43m    \u001b[49m\u001b[43mallow_unreachable\u001b[49m\u001b[38;5;241;43m=\u001b[39;49m\u001b[38;5;28;43;01mTrue\u001b[39;49;00m\u001b[43m,\u001b[49m\n\u001b[1;32m    273\u001b[0m \u001b[43m    \u001b[49m\u001b[43maccumulate_grad\u001b[49m\u001b[38;5;241;43m=\u001b[39;49m\u001b[38;5;28;43;01mTrue\u001b[39;49;00m\u001b[43m,\u001b[49m\n\u001b[1;32m    274\u001b[0m \u001b[43m\u001b[49m\u001b[43m)\u001b[49m\n",
      "\u001b[0;31mKeyboardInterrupt\u001b[0m: "
     ]
    }
   ],
   "source": [
    "# Training hyperparameters.\n",
    "device = 'cpu'\n",
    "lr = 0.0001\n",
    "epochs = 40\n",
    "\n",
    "model_cnn = CNN().to(device)\n",
    "optimizer = torch.optim.Adam(model_cnn.parameters(), lr=lr)\n",
    "\n",
    "# Our outer training loop, collect loss on train and accuracy on validation.\n",
    "losses_and_accs = []\n",
    "for epoch in range(epochs):\n",
    "    loss = train_epoch(model_cnn, dl_train, optimizer, epoch, device=device)\n",
    "    (val_acc, _) = evaluate_model(model_cnn, dl_val, device=device)\n",
    "    losses_and_accs.append((loss, val_acc))\n",
    "    \n",
    "# And finally plot the curves.\n",
    "plot_validation_curves(losses_and_accs)\n",
    "print(f'Accuracy report on TEST\\n: {evaluate_model(model_cnn, dl_test, device=device)[1]}')"
   ]
  },
  {
   "cell_type": "markdown",
   "id": "e320aab5-f9e1-4649-bd15-f037fe786dd9",
   "metadata": {},
   "source": [
    "## Comparing the two models\n",
    "\n",
    "Finally, let's have a look at the difference in number of parameters for these two models."
   ]
  },
  {
   "cell_type": "code",
   "execution_count": null,
   "id": "260a6b68-1fb2-4d5d-b31a-1810a7bcc5fb",
   "metadata": {},
   "outputs": [],
   "source": [
    "print(f'MLP: {count_parameters(model_mlp)} trainable parameters.')\n",
    "print(f'CNN: {count_parameters(model_cnn)} trainable parameters.')"
   ]
  }
 ],
 "metadata": {
  "kernelspec": {
   "display_name": "Python 3 (ipykernel)",
   "language": "python",
   "name": "python3"
  },
  "language_info": {
   "codemirror_mode": {
    "name": "ipython",
    "version": 3
   },
   "file_extension": ".py",
   "mimetype": "text/x-python",
   "name": "python",
   "nbconvert_exporter": "python",
   "pygments_lexer": "ipython3",
   "version": "3.10.13"
  }
 },
 "nbformat": 4,
 "nbformat_minor": 5
}
